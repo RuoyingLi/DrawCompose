{
 "cells": [
  {
   "cell_type": "code",
   "execution_count": 2,
   "metadata": {},
   "outputs": [],
   "source": [
    "import json"
   ]
  },
  {
   "cell_type": "code",
   "execution_count": 178,
   "metadata": {},
   "outputs": [],
   "source": [
    "def extract_objects(jsonFile):\n",
    "    with open(jsonFile) as json_file:\n",
    "        data = json.load(json_file)\n",
    "    things = {'shapes':[],'texts':[]}\n",
    "    for i in range(len(data['recognitionUnits'])):\n",
    "        obj = data['recognitionUnits'][i]\n",
    "        if obj['category'] == 'inkDrawing':\n",
    "            curr_obj = recShape(obj['center'],obj['recognizedObject'],\n",
    "                                obj['alternates'])\n",
    "            things['shapes'].append(curr_obj)\n",
    "        elif obj['category'] == 'inkWord':\n",
    "            curr_obj = recText(obj['boundingRectangle'],obj['recognizedText'],\n",
    "                                obj['alternates'])\n",
    "            things['texts'].append(curr_obj)\n",
    "    return things\n",
    "    "
   ]
  },
  {
   "cell_type": "code",
   "execution_count": 294,
   "metadata": {},
   "outputs": [],
   "source": [
    "def check_type(things):\n",
    "    switcher={\n",
    "        \"isoscelesTriangle\": dockerObject(things),\n",
    "        \"square\": dockerObject(things),\n",
    "        \"rightTriangle\" : dockerObject(things),\n",
    "        \"equilateralTriangle\": dockerObject(things)\n",
    "    }\n",
    "    return switcher.get(things['shapes'][0].object,'Invalid Object')\n",
    "\n",
    "def collect(jsonFiles):\n",
    "    all_components = []\n",
    "    for i in jsonFiles:\n",
    "        obj = extract_objects(i)\n",
    "        obj = check_type(obj)\n",
    "        all_components.append(obj)\n",
    "    return all_components"
   ]
  },
  {
   "cell_type": "code",
   "execution_count": 292,
   "metadata": {},
   "outputs": [],
   "source": [
    "class recText():\n",
    "    def __init__ (self, boundingRectangle, recognizedText, alternates):\n",
    "        \"\"\"\n",
    "        boundingRectangle: dict{'height', 'topX', 'topY', 'width'}\n",
    "        \"\"\"\n",
    "        self.boundingRectangle = boundingRectangle\n",
    "        self.text = recognizedText\n",
    "        self.alternates = []\n",
    "        for i in alternates:\n",
    "            self.alternates.append(i['recognizedString'])\n",
    "        \n",
    "class recShape():\n",
    "    def __init__ (self, center, recognizedObject, alternates):\n",
    "        \"\"\"\n",
    "        center: dict{'x','y}\n",
    "        \"\"\"\n",
    "        self.center = center\n",
    "        self.object = recognizedObject\n",
    "        self.alternates = []\n",
    "        for i in alternates:\n",
    "            self.alternates.append(i['recognizedString'])"
   ]
  },
  {
   "cell_type": "code",
   "execution_count": 273,
   "metadata": {},
   "outputs": [],
   "source": [
    "class dockerObject():\n",
    "    def __init__(self, things):\n",
    "        self.service = things['texts'][0].text.lower()\n",
    "        self.image = things['texts'][1] .text.lower()\n",
    "        "
   ]
  },
  {
   "cell_type": "code",
   "execution_count": 274,
   "metadata": {},
   "outputs": [],
   "source": [
    "obj1 = dockerObject(things)"
   ]
  },
  {
   "cell_type": "code",
   "execution_count": 275,
   "metadata": {},
   "outputs": [],
   "source": [
    "obj2 = dockerObject(things)"
   ]
  },
  {
   "cell_type": "code",
   "execution_count": 277,
   "metadata": {},
   "outputs": [],
   "source": [
    "all_components = [obj1,obj2]"
   ]
  },
  {
   "cell_type": "code",
   "execution_count": 297,
   "metadata": {},
   "outputs": [],
   "source": [
    "def write_yaml(all_components):\n",
    "    ymlFile = 'version: \"3.7\"\\nservices:\\n'\n",
    "    for comp in all_components:\n",
    "        strings = '  %s:\\n    image: %s\\n'%(comp.service,comp.image)\n",
    "        ymlFile+=strings\n",
    "    f = open('write_test.yml','w')\n",
    "    f.write(ymlFile)\n",
    "    f.close()\n"
   ]
  },
  {
   "cell_type": "code",
   "execution_count": 295,
   "metadata": {},
   "outputs": [],
   "source": [
    "all_components = collect(['one_docker.json','one_docker.json'])"
   ]
  },
  {
   "cell_type": "code",
   "execution_count": 296,
   "metadata": {},
   "outputs": [
    {
     "data": {
      "text/plain": [
       "[<__main__.dockerObject at 0x10e694910>,\n",
       " <__main__.dockerObject at 0x10e6946d0>]"
      ]
     },
     "execution_count": 296,
     "metadata": {},
     "output_type": "execute_result"
    }
   ],
   "source": [
    "all_components"
   ]
  },
  {
   "cell_type": "code",
   "execution_count": null,
   "metadata": {},
   "outputs": [],
   "source": []
  }
 ],
 "metadata": {
  "kernelspec": {
   "display_name": "Python 3",
   "language": "python",
   "name": "python3"
  },
  "language_info": {
   "codemirror_mode": {
    "name": "ipython",
    "version": 3
   },
   "file_extension": ".py",
   "mimetype": "text/x-python",
   "name": "python",
   "nbconvert_exporter": "python",
   "pygments_lexer": "ipython3",
   "version": "3.7.4"
  }
 },
 "nbformat": 4,
 "nbformat_minor": 2
}
