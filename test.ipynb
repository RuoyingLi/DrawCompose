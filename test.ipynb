{
 "cells": [
  {
   "cell_type": "code",
   "execution_count": 2,
   "metadata": {},
   "outputs": [],
   "source": [
    "import json"
   ]
  },
  {
   "cell_type": "code",
   "execution_count": 60,
   "metadata": {},
   "outputs": [],
   "source": [
    "def check_type(jsonFile):\n",
    "    with open('rec_h_tra_g.json') as json_file:\n",
    "        data = json.load(json_file)\n",
    "    recognizedObject = data['recognitionUnits'][0]['recognizedObject']\n",
    "    recognizedText = data['recognitionUnits'][1]['recognizedText']\n",
    "    "
   ]
  },
  {
   "cell_type": "code",
   "execution_count": null,
   "metadata": {},
   "outputs": [],
   "source": [
    "class recText():\n",
    "    def __init__ (self, boundingRectangle, recognizedText):\n",
    "        \"\"\"\n",
    "        boundingRectangle: dict{'height', 'topX', 'topY', 'width'}\n",
    "        \"\"\"\n",
    "        self.boundingRectangle = boundingRectangle\n",
    "        self.text = recognizedText\n",
    "        self.alternates = "
   ]
  },
  {
   "cell_type": "code",
   "execution_count": 61,
   "metadata": {},
   "outputs": [],
   "source": [
    "with open('rec_h_tra_g.json') as json_file:\n",
    "        data = json.load(json_file)"
   ]
  },
  {
   "cell_type": "code",
   "execution_count": 106,
   "metadata": {},
   "outputs": [
    {
     "data": {
      "text/plain": [
       "{'alternates': [{'category': 'inkWord', 'recognizedString': 'Hall0'},\n",
       "  {'category': 'inkWord', 'recognizedString': 'Hako'},\n",
       "  {'category': 'inkWord', 'recognizedString': 'HallO'},\n",
       "  {'category': 'inkWord', 'recognizedString': 'Halto'},\n",
       "  {'category': 'inkWord', 'recognizedString': 'Hado'},\n",
       "  {'category': 'inkWord', 'recognizedString': 'Halco'}],\n",
       " 'boundingRectangle': {'height': 16.940000534057617,\n",
       "  'topX': 20.3700008392334,\n",
       "  'topY': 36.5099983215332,\n",
       "  'width': 34.93000030517578},\n",
       " 'category': 'inkWord',\n",
       " 'class': 'leaf',\n",
       " 'id': 5,\n",
       " 'parentId': 4,\n",
       " 'recognizedText': 'Hallo',\n",
       " 'rotatedBoundingRectangle': [{'x': 19.040000915527344,\n",
       "   'y': 39.709999084472656},\n",
       "  {'x': 54.5099983215332, 'y': 34.83000183105469},\n",
       "  {'x': 56.4900016784668, 'y': 49.25},\n",
       "  {'x': 21.030000686645508, 'y': 54.119998931884766}],\n",
       " 'strokeIds': [198, 199, 200, 201, 202, 203, 204]}"
      ]
     },
     "execution_count": 106,
     "metadata": {},
     "output_type": "execute_result"
    }
   ],
   "source": [
    "data['recognitionUnits'][1]"
   ]
  },
  {
   "cell_type": "code",
   "execution_count": 103,
   "metadata": {},
   "outputs": [
    {
     "data": {
      "text/plain": [
       "{'x': 139.3800048828125, 'y': 29.3700008392334}"
      ]
     },
     "execution_count": 103,
     "metadata": {},
     "output_type": "execute_result"
    }
   ],
   "source": [
    "data['recognitionUnits'][5]['center']"
   ]
  },
  {
   "cell_type": "code",
   "execution_count": 102,
   "metadata": {},
   "outputs": [
    {
     "data": {
      "text/plain": [
       "{'height': 21.709999084472656,\n",
       " 'topX': 113.5,\n",
       " 'topY': 22.479999542236328,\n",
       " 'width': 37.31999969482422}"
      ]
     },
     "execution_count": 102,
     "metadata": {},
     "output_type": "execute_result"
    }
   ],
   "source": [
    "data['recognitionUnits'][7]['boundingRectangle']"
   ]
  },
  {
   "cell_type": "code",
   "execution_count": 83,
   "metadata": {},
   "outputs": [
    {
     "data": {
      "text/plain": [
       "{'alternates': [{'category': 'inkDrawing',\n",
       "   'confidence': 0.661002457,\n",
       "   'recognizedString': 'isoscelesTriangle',\n",
       "   'rotationAngle': 0.0},\n",
       "  {'category': 'inkDrawing',\n",
       "   'confidence': 0.520882368,\n",
       "   'recognizedString': 'triangle',\n",
       "   'rotationAngle': 0.0},\n",
       "  {'category': 'inkDrawing',\n",
       "   'confidence': 0.221672386,\n",
       "   'recognizedString': 'rightTriangle',\n",
       "   'rotationAngle': 0.0}],\n",
       " 'boundingRectangle': {'height': 54.779998779296875,\n",
       "  'topX': 9.779999732971191,\n",
       "  'topY': 3.430000066757202,\n",
       "  'width': 63.779998779296875},\n",
       " 'category': 'inkDrawing',\n",
       " 'center': {'x': 38.66999816894531, 'y': 30.700000762939453},\n",
       " 'class': 'leaf',\n",
       " 'confidence': 1.0,\n",
       " 'id': 1,\n",
       " 'parentId': 0,\n",
       " 'points': [{'x': 40.970001220703125, 'y': 3.3299999237060547},\n",
       "  {'x': 9.600000381469727, 'y': 57.66999816894531},\n",
       "  {'x': 72.33999633789062, 'y': 57.66999816894531}],\n",
       " 'recognizedObject': 'equilateralTriangle',\n",
       " 'rotatedBoundingRectangle': [{'x': 9.699999809265137, 'y': 57.65999984741211},\n",
       "  {'x': 15.069999694824219, 'y': 1.1100000143051147},\n",
       "  {'x': 78.38999938964844, 'y': 7.119999885559082},\n",
       "  {'x': 73.02999877929688, 'y': 63.66999816894531}],\n",
       " 'rotationAngle': 0.0,\n",
       " 'strokeIds': [197]}"
      ]
     },
     "execution_count": 83,
     "metadata": {},
     "output_type": "execute_result"
    }
   ],
   "source": [
    "data['recognitionUnits'][0]"
   ]
  },
  {
   "cell_type": "code",
   "execution_count": null,
   "metadata": {},
   "outputs": [],
   "source": []
  }
 ],
 "metadata": {
  "kernelspec": {
   "display_name": "Python 3",
   "language": "python",
   "name": "python3"
  },
  "language_info": {
   "codemirror_mode": {
    "name": "ipython",
    "version": 3
   },
   "file_extension": ".py",
   "mimetype": "text/x-python",
   "name": "python",
   "nbconvert_exporter": "python",
   "pygments_lexer": "ipython3",
   "version": "3.7.4"
  }
 },
 "nbformat": 4,
 "nbformat_minor": 2
}
