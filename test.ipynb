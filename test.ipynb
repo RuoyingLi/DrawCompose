{
 "cells": [
  {
   "cell_type": "code",
   "execution_count": 2,
   "metadata": {},
   "outputs": [],
   "source": [
    "import json"
   ]
  },
  {
   "cell_type": "code",
   "execution_count": 178,
   "metadata": {},
   "outputs": [],
   "source": [
    "def extract_objects(jsonFile):\n",
    "    with open(jsonFile) as json_file:\n",
    "        data = json.load(json_file)\n",
    "    things = {'shapes':[],'texts':[]}\n",
    "    for i in range(len(data['recognitionUnits'])):\n",
    "        obj = data['recognitionUnits'][i]\n",
    "        if obj['category'] == 'inkDrawing':\n",
    "            curr_obj = recShape(obj['center'],obj['recognizedObject'],\n",
    "                                obj['alternates'])\n",
    "            things['shapes'].append(curr_obj)\n",
    "        elif obj['category'] == 'inkWord':\n",
    "            curr_obj = recText(obj['boundingRectangle'],obj['recognizedText'],\n",
    "                                obj['alternates'])\n",
    "            things['texts'].append(curr_obj)\n",
    "    return things\n",
    "    "
   ]
  },
  {
   "cell_type": "code",
   "execution_count": 169,
   "metadata": {},
   "outputs": [],
   "source": [
    "def check_type(things):\n",
    "    switcher={\n",
    "        \"isoscelesTriangle\": gitService(),\n",
    "        \"square\": dockerService(things),\n",
    "        \"rightTriangle\" : blabla(),\n",
    "        \"equilateralTriangle\": blabla()\n",
    "    }\n",
    "    return switcher.get(things['shapes'],'Invalid Object')"
   ]
  },
  {
   "cell_type": "code",
   "execution_count": 170,
   "metadata": {},
   "outputs": [],
   "source": [
    "class recText():\n",
    "    def __init__ (self, boundingRectangle, recognizedText, alternates):\n",
    "        \"\"\"\n",
    "        boundingRectangle: dict{'height', 'topX', 'topY', 'width'}\n",
    "        \"\"\"\n",
    "        self.boundingRectangle = boundingRectangle\n",
    "        self.text = recognizedText\n",
    "        self.alternates = alternates\n",
    "\n",
    "class recShape():\n",
    "    def __init__ (self, center, recognizedObject, alternates):\n",
    "        \"\"\"\n",
    "        center: dict{'x','y}\n",
    "        \"\"\"\n",
    "        self.center = center\n",
    "        self.object = recognizedObject\n",
    "        self.alternates = alternates"
   ]
  },
  {
   "cell_type": "code",
   "execution_count": 197,
   "metadata": {},
   "outputs": [],
   "source": [
    "class dockerService():\n",
    "    def __init__(self, things):\n",
    "        self.service = things['texts'][0]\n",
    "        self.image = things['texts'][1] \n",
    "        self.dockerfile = \"docker_compose.yml\"\n",
    "        \n",
    "    def makeComposefile(self):\n",
    "        file = open(self.dockerfile, \"w\") \n",
    "        file.write(\"FROM %s\"%(self.image.text)) \n",
    "        file.close() \n",
    "        \n",
    "        "
   ]
  },
  {
   "cell_type": "code",
   "execution_count": 194,
   "metadata": {},
   "outputs": [],
   "source": [
    "ds = dockerService(things)\n",
    "ds.makeDockerfile()"
   ]
  },
  {
   "cell_type": "code",
   "execution_count": null,
   "metadata": {},
   "outputs": [],
   "source": [
    "things = extract_objects()"
   ]
  }
 ],
 "metadata": {
  "kernelspec": {
   "display_name": "Python 3",
   "language": "python",
   "name": "python3"
  },
  "language_info": {
   "codemirror_mode": {
    "name": "ipython",
    "version": 3
   },
   "file_extension": ".py",
   "mimetype": "text/x-python",
   "name": "python",
   "nbconvert_exporter": "python",
   "pygments_lexer": "ipython3",
   "version": "3.7.4"
  }
 },
 "nbformat": 4,
 "nbformat_minor": 2
}
