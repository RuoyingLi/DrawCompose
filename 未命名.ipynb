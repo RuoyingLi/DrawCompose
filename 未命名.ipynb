{
 "cells": [
  {
   "cell_type": "code",
   "execution_count": 2,
   "metadata": {},
   "outputs": [],
   "source": [
    "import json"
   ]
  },
  {
   "cell_type": "code",
   "execution_count": 46,
   "metadata": {},
   "outputs": [],
   "source": [
    "def check_type(jsonFile):\n",
    "    with open('rec_hello.json') as json_file:\n",
    "        data = json.load(json_file)\n",
    "    recognizedObject = data['recognitionUnits'][0]['recognizedObject']\n",
    "    recognizedText = data['recognitionUnits'][1]['recognizedText']\n",
    "    "
   ]
  },
  {
   "cell_type": "code",
   "execution_count": 33,
   "metadata": {},
   "outputs": [
    {
     "data": {
      "text/plain": [
       "dict_keys(['alternates', 'boundingRectangle', 'category', 'center', 'class', 'confidence', 'id', 'parentId', 'points', 'recognizedObject', 'rotatedBoundingRectangle', 'rotationAngle', 'strokeIds'])"
      ]
     },
     "execution_count": 33,
     "metadata": {},
     "output_type": "execute_result"
    }
   ],
   "source": [
    "data['recognitionUnits'][0].keys()"
   ]
  },
  {
   "cell_type": "code",
   "execution_count": 53,
   "metadata": {},
   "outputs": [
    {
     "data": {
      "text/plain": [
       "'Hello-World'"
      ]
     },
     "execution_count": 53,
     "metadata": {},
     "output_type": "execute_result"
    }
   ],
   "source": [
    "data['recognitionUnits'][5]['recognizedText']"
   ]
  },
  {
   "cell_type": "code",
   "execution_count": 54,
   "metadata": {},
   "outputs": [
    {
     "data": {
      "text/plain": [
       "9"
      ]
     },
     "execution_count": 54,
     "metadata": {},
     "output_type": "execute_result"
    }
   ],
   "source": [
    "len(data['recognitionUnits'])"
   ]
  },
  {
   "cell_type": "code",
   "execution_count": 59,
   "metadata": {},
   "outputs": [
    {
     "data": {
      "text/plain": [
       "{'boundingRectangle': {'height': 16.68000030517578,\n",
       "  'topX': 4.489999771118164,\n",
       "  'topY': 42.060001373291016,\n",
       "  'width': 48.959999084472656},\n",
       " 'category': 'writingRegion',\n",
       " 'childIds': [7],\n",
       " 'class': 'container',\n",
       " 'id': 6,\n",
       " 'parentId': 0,\n",
       " 'rotatedBoundingRectangle': [{'x': 3.859999895095825, 'y': 44.08000183105469},\n",
       "  {'x': 52.81999969482422, 'y': 41.91999816894531},\n",
       "  {'x': 53.4900016784668, 'y': 56.9900016784668},\n",
       "  {'x': 4.53000020980835, 'y': 59.15999984741211}],\n",
       " 'strokeIds': [133,\n",
       "  134,\n",
       "  135,\n",
       "  136,\n",
       "  137,\n",
       "  138,\n",
       "  139,\n",
       "  140,\n",
       "  141,\n",
       "  142,\n",
       "  143,\n",
       "  144,\n",
       "  145]}"
      ]
     },
     "execution_count": 59,
     "metadata": {},
     "output_type": "execute_result"
    }
   ],
   "source": [
    "data['recognitionUnits'][8]"
   ]
  },
  {
   "cell_type": "code",
   "execution_count": null,
   "metadata": {},
   "outputs": [],
   "source": []
  }
 ],
 "metadata": {
  "kernelspec": {
   "display_name": "Python 3",
   "language": "python",
   "name": "python3"
  },
  "language_info": {
   "codemirror_mode": {
    "name": "ipython",
    "version": 3
   },
   "file_extension": ".py",
   "mimetype": "text/x-python",
   "name": "python",
   "nbconvert_exporter": "python",
   "pygments_lexer": "ipython3",
   "version": "3.7.4"
  }
 },
 "nbformat": 4,
 "nbformat_minor": 2
}
